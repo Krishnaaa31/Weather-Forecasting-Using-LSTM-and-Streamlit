{
 "cells": [
  {
   "cell_type": "code",
   "execution_count": 83,
   "id": "4fb58bd7-f70b-499c-9035-d02c176a86fc",
   "metadata": {},
   "outputs": [],
   "source": [
    "import pandas as pd\n",
    "import numpy as np\n",
    "import torch\n",
    "import torch.nn as nn\n",
    "import torch.optim as optim\n",
    "from sklearn.preprocessing import MinMaxScaler\n",
    "from sklearn.model_selection import train_test_split\n",
    "import requests\n",
    "import streamlit as st"
   ]
  },
  {
   "cell_type": "code",
   "execution_count": 84,
   "id": "47614324-8970-4d24-950f-67192b1924fc",
   "metadata": {},
   "outputs": [
    {
     "data": {
      "text/html": [
       "<div>\n",
       "<style scoped>\n",
       "    .dataframe tbody tr th:only-of-type {\n",
       "        vertical-align: middle;\n",
       "    }\n",
       "\n",
       "    .dataframe tbody tr th {\n",
       "        vertical-align: top;\n",
       "    }\n",
       "\n",
       "    .dataframe thead th {\n",
       "        text-align: right;\n",
       "    }\n",
       "</style>\n",
       "<table border=\"1\" class=\"dataframe\">\n",
       "  <thead>\n",
       "    <tr style=\"text-align: right;\">\n",
       "      <th></th>\n",
       "      <th>Date</th>\n",
       "      <th>City</th>\n",
       "      <th>Temperature</th>\n",
       "      <th>Humidity</th>\n",
       "      <th>Pressure</th>\n",
       "      <th>Wind Speed</th>\n",
       "    </tr>\n",
       "  </thead>\n",
       "  <tbody>\n",
       "    <tr>\n",
       "      <th>0</th>\n",
       "      <td>2022-01-01</td>\n",
       "      <td>Mumbai</td>\n",
       "      <td>38.64</td>\n",
       "      <td>52</td>\n",
       "      <td>1014</td>\n",
       "      <td>5.71</td>\n",
       "    </tr>\n",
       "    <tr>\n",
       "      <th>1</th>\n",
       "      <td>2022-01-02</td>\n",
       "      <td>Delhi</td>\n",
       "      <td>26.28</td>\n",
       "      <td>78</td>\n",
       "      <td>1011</td>\n",
       "      <td>6.73</td>\n",
       "    </tr>\n",
       "    <tr>\n",
       "      <th>2</th>\n",
       "      <td>2022-01-03</td>\n",
       "      <td>Bangalore</td>\n",
       "      <td>15.58</td>\n",
       "      <td>82</td>\n",
       "      <td>1004</td>\n",
       "      <td>3.46</td>\n",
       "    </tr>\n",
       "    <tr>\n",
       "      <th>3</th>\n",
       "      <td>2022-01-04</td>\n",
       "      <td>Chennai</td>\n",
       "      <td>30.52</td>\n",
       "      <td>72</td>\n",
       "      <td>1007</td>\n",
       "      <td>7.67</td>\n",
       "    </tr>\n",
       "    <tr>\n",
       "      <th>4</th>\n",
       "      <td>2022-01-05</td>\n",
       "      <td>Kolkata</td>\n",
       "      <td>27.20</td>\n",
       "      <td>84</td>\n",
       "      <td>1019</td>\n",
       "      <td>8.20</td>\n",
       "    </tr>\n",
       "    <tr>\n",
       "      <th>...</th>\n",
       "      <td>...</td>\n",
       "      <td>...</td>\n",
       "      <td>...</td>\n",
       "      <td>...</td>\n",
       "      <td>...</td>\n",
       "      <td>...</td>\n",
       "    </tr>\n",
       "    <tr>\n",
       "      <th>4995</th>\n",
       "      <td>2024-09-22</td>\n",
       "      <td>Mumbai</td>\n",
       "      <td>35.58</td>\n",
       "      <td>90</td>\n",
       "      <td>1023</td>\n",
       "      <td>7.59</td>\n",
       "    </tr>\n",
       "    <tr>\n",
       "      <th>4996</th>\n",
       "      <td>2024-09-23</td>\n",
       "      <td>Delhi</td>\n",
       "      <td>15.67</td>\n",
       "      <td>65</td>\n",
       "      <td>1006</td>\n",
       "      <td>9.96</td>\n",
       "    </tr>\n",
       "    <tr>\n",
       "      <th>4997</th>\n",
       "      <td>2024-09-24</td>\n",
       "      <td>Bangalore</td>\n",
       "      <td>33.36</td>\n",
       "      <td>78</td>\n",
       "      <td>1007</td>\n",
       "      <td>5.89</td>\n",
       "    </tr>\n",
       "    <tr>\n",
       "      <th>4998</th>\n",
       "      <td>2024-09-25</td>\n",
       "      <td>Chennai</td>\n",
       "      <td>30.08</td>\n",
       "      <td>66</td>\n",
       "      <td>1015</td>\n",
       "      <td>7.84</td>\n",
       "    </tr>\n",
       "    <tr>\n",
       "      <th>4999</th>\n",
       "      <td>2024-09-26</td>\n",
       "      <td>Kolkata</td>\n",
       "      <td>36.81</td>\n",
       "      <td>68</td>\n",
       "      <td>1017</td>\n",
       "      <td>3.41</td>\n",
       "    </tr>\n",
       "  </tbody>\n",
       "</table>\n",
       "<p>5000 rows × 6 columns</p>\n",
       "</div>"
      ],
      "text/plain": [
       "            Date       City  Temperature  Humidity  Pressure  Wind Speed\n",
       "0     2022-01-01     Mumbai        38.64        52      1014        5.71\n",
       "1     2022-01-02      Delhi        26.28        78      1011        6.73\n",
       "2     2022-01-03  Bangalore        15.58        82      1004        3.46\n",
       "3     2022-01-04    Chennai        30.52        72      1007        7.67\n",
       "4     2022-01-05    Kolkata        27.20        84      1019        8.20\n",
       "...          ...        ...          ...       ...       ...         ...\n",
       "4995  2024-09-22     Mumbai        35.58        90      1023        7.59\n",
       "4996  2024-09-23      Delhi        15.67        65      1006        9.96\n",
       "4997  2024-09-24  Bangalore        33.36        78      1007        5.89\n",
       "4998  2024-09-25    Chennai        30.08        66      1015        7.84\n",
       "4999  2024-09-26    Kolkata        36.81        68      1017        3.41\n",
       "\n",
       "[5000 rows x 6 columns]"
      ]
     },
     "execution_count": 84,
     "metadata": {},
     "output_type": "execute_result"
    }
   ],
   "source": [
    "# Load dataset\n",
    "df = pd.read_csv(\"updated_weather_data.csv\")\n",
    "df"
   ]
  },
  {
   "cell_type": "code",
   "execution_count": 85,
   "id": "3b88c78f-b998-4fbd-b28f-6b78fc3cd6ba",
   "metadata": {},
   "outputs": [],
   "source": [
    "# Extract city names\n",
    "cities = df['City'].unique()\n"
   ]
  },
  {
   "cell_type": "code",
   "execution_count": 86,
   "id": "60d81c85-8cac-44fa-9aeb-efe627faa864",
   "metadata": {},
   "outputs": [],
   "source": [
    "# Data Preparation\n",
    "def create_sequences(data, seq_length):\n",
    "    sequences = []\n",
    "    for i in range(len(data) - seq_length):\n",
    "        seq = data[i:i + seq_length]\n",
    "        label = data[i + seq_length]\n",
    "        sequences.append((seq, label))\n",
    "    return sequences\n",
    "\n",
    "scaler = MinMaxScaler(feature_range=(0, 1))\n",
    "scaled_data = scaler.fit_transform(df['Temperature'].values.reshape(-1, 1))\n",
    "\n",
    "seq_length = 10  # Number of time steps to consider in LSTM\n",
    "dataset = create_sequences(scaled_data, seq_length)\n",
    "\n",
    "train_size = int(len(dataset) * 0.8)\n",
    "train_data = dataset[:train_size]\n",
    "test_data = dataset[train_size:]\n",
    "\n",
    "def convert_to_tensor(data):\n",
    "    X = torch.tensor([seq for seq, _ in data], dtype=torch.float32)\n",
    "    y = torch.tensor([label for _, label in data], dtype=torch.float32)\n",
    "    return X, y\n",
    "\n",
    "X_train, y_train = convert_to_tensor(train_data)\n",
    "X_test, y_test = convert_to_tensor(test_data)\n"
   ]
  },
  {
   "cell_type": "code",
   "execution_count": 87,
   "id": "e436f808-8ddb-4d15-8cb2-396c5e47f2be",
   "metadata": {},
   "outputs": [],
   "source": [
    "class LSTMModel(nn.Module):\n",
    "    def __init__(self, input_size=10, hidden_layer_size=50, output_size=1):  # Change input_size to 10\n",
    "        super().__init__()\n",
    "        self.hidden_layer_size = hidden_layer_size\n",
    "        self.lstm = nn.LSTM(input_size, hidden_layer_size)\n",
    "        self.linear = nn.Linear(hidden_layer_size, output_size)\n",
    "        self.hidden_cell = (torch.zeros(1, 1, self.hidden_layer_size),\n",
    "                            torch.zeros(1, 1, self.hidden_layer_size))\n",
    "\n",
    "    def forward(self, input_seq):\n",
    "        lstm_out, self.hidden_cell = self.lstm(input_seq.view(len(input_seq), 1, -1), self.hidden_cell)\n",
    "        predictions = self.linear(lstm_out.view(len(input_seq), -1))\n",
    "        return predictions[-1]\n"
   ]
  },
  {
   "cell_type": "code",
   "execution_count": 88,
   "id": "f4de5c94-e9ed-4f2e-9a03-9b07535f6c0b",
   "metadata": {},
   "outputs": [],
   "source": [
    "# Initialize model, loss function, and optimizer\n",
    "model = LSTMModel()\n",
    "criterion = nn.MSELoss()\n",
    "optimizer = optim.Adam(model.parameters(), lr=0.001)\n"
   ]
  },
  {
   "cell_type": "code",
   "execution_count": 89,
   "id": "dbe0577c-b226-4308-af88-fddf6754f1ff",
   "metadata": {},
   "outputs": [
    {
     "name": "stderr",
     "output_type": "stream",
     "text": [
      "C:\\Users\\Krishna\\anaconda3\\Lib\\site-packages\\torch\\nn\\modules\\loss.py:610: UserWarning: Using a target size (torch.Size([3992, 1])) that is different to the input size (torch.Size([1])). This will likely lead to incorrect results due to broadcasting. Please ensure they have the same size.\n",
      "  return F.mse_loss(input, target, reduction=self.reduction)\n"
     ]
    },
    {
     "name": "stdout",
     "output_type": "stream",
     "text": [
      "Epoch 5/50 - Loss: 0.2678\n",
      "Epoch 10/50 - Loss: 0.1517\n",
      "Epoch 15/50 - Loss: 0.0873\n",
      "Epoch 20/50 - Loss: 0.0976\n",
      "Epoch 25/50 - Loss: 0.0927\n",
      "Epoch 30/50 - Loss: 0.0835\n",
      "Epoch 35/50 - Loss: 0.0854\n",
      "Epoch 40/50 - Loss: 0.0859\n",
      "Epoch 45/50 - Loss: 0.0841\n",
      "Epoch 50/50 - Loss: 0.0835\n"
     ]
    }
   ],
   "source": [
    "# Training Loop\n",
    "epochs = 50\n",
    "for epoch in range(epochs):\n",
    "    model.train()\n",
    "    optimizer.zero_grad()\n",
    "\n",
    "    model.hidden_cell = (torch.zeros(1, 1, model.hidden_layer_size),\n",
    "                         torch.zeros(1, 1, model.hidden_layer_size))\n",
    "\n",
    "    y_pred = model(X_train)\n",
    "    loss = criterion(y_pred, y_train)\n",
    "\n",
    "    loss.backward()\n",
    "    optimizer.step()\n",
    "\n",
    "    if (epoch + 1) % 5 == 0:\n",
    "        print(f'Epoch {epoch + 1}/{epochs} - Loss: {loss.item():.4f}')\n",
    "\n"
   ]
  },
  {
   "cell_type": "code",
   "execution_count": 90,
   "id": "5883cde3-0613-438f-82a0-3f09300c59b5",
   "metadata": {},
   "outputs": [
    {
     "name": "stdout",
     "output_type": "stream",
     "text": [
      "Model trained and saved successfully!\n"
     ]
    }
   ],
   "source": [
    "# Save the trained model\n",
    "torch.save(model.state_dict(), r\"C:\\Users\\Krishna\\Desktop\\Weather\\model.pth\")\n",
    "print(\"Model trained and saved successfully!\")"
   ]
  },
  {
   "cell_type": "code",
   "execution_count": 94,
   "id": "7e2741b3-ce82-4cc7-a7f3-d42fe7fb2586",
   "metadata": {},
   "outputs": [
    {
     "name": "stdout",
     "output_type": "stream",
     "text": [
      "Model loaded successfully!\n"
     ]
    }
   ],
   "source": [
    "# Load the model\n",
    "model = LSTMModel()\n",
    "model.load_state_dict(torch.load(r\"C:\\Users\\Krishna\\Desktop\\Weather\\model.pth\"))\n",
    "model.eval()\n",
    "print(\"Model loaded successfully!\")\n"
   ]
  },
  {
   "cell_type": "code",
   "execution_count": 96,
   "id": "72f6a3af-1f3b-40c9-9b23-396559767bcc",
   "metadata": {},
   "outputs": [],
   "source": [
    "# API Configuration\n",
    "api_key = \"358d4712052db8663c857eec875c24d6\"\n",
    "base_url = \"http://api.openweathermap.org/data/2.5/weather\"\n"
   ]
  },
  {
   "cell_type": "code",
   "execution_count": 98,
   "id": "9e6f808e-93d9-488d-9641-d4dc0d4a03fd",
   "metadata": {},
   "outputs": [],
   "source": [
    "def predict_temperatures(city):\n",
    "    response = requests.get(f\"{base_url}?q={city}&appid={api_key}&units=metric\")\n",
    "    data = response.json()\n",
    "\n",
    "    if response.status_code == 200:\n",
    "        current_temp = data['main']['temp']\n",
    "\n",
    "        scaler = MinMaxScaler(feature_range=(0, 1))\n",
    "        scaled_temp = scaler.fit_transform(np.array([current_temp]).reshape(-1, 1))\n",
    "        temp_tensor = torch.tensor(scaled_temp, dtype=torch.float32)\n",
    "\n",
    "        predictions = []\n",
    "        for _ in range(3):\n",
    "            with torch.no_grad():\n",
    "                predicted_temp = model(temp_tensor).item()\n",
    "            temp_tensor = torch.cat((temp_tensor, torch.tensor([[predicted_temp]])))\n",
    "            predictions.append(predicted_temp)\n",
    "\n",
    "        predictions = scaler.inverse_transform(np.array(predictions).reshape(-1, 1))\n",
    "        return f\"Predicted temperatures for next 3 days in {city}: {predictions.flatten()}°C\"\n",
    "    else:\n",
    "        return f\"Error fetching data for {city}.\"\n"
   ]
  },
  {
   "cell_type": "code",
   "execution_count": 102,
   "id": "28eaab17-9efa-4dee-ad2b-1032e1c20dd3",
   "metadata": {},
   "outputs": [
    {
     "name": "stderr",
     "output_type": "stream",
     "text": [
      "2025-03-20 11:13:55.369 WARNING streamlit.runtime.scriptrunner_utils.script_run_context: Thread 'MainThread': missing ScriptRunContext! This warning can be ignored when running in bare mode.\n",
      "2025-03-20 11:13:55.456 \n",
      "  \u001b[33m\u001b[1mWarning:\u001b[0m to view this Streamlit app on a browser, run it with the following\n",
      "  command:\n",
      "\n",
      "    streamlit run C:\\Users\\Krishna\\anaconda3\\Lib\\site-packages\\ipykernel_launcher.py [ARGUMENTS]\n",
      "2025-03-20 11:13:55.456 Thread 'MainThread': missing ScriptRunContext! This warning can be ignored when running in bare mode.\n",
      "2025-03-20 11:13:55.457 Thread 'MainThread': missing ScriptRunContext! This warning can be ignored when running in bare mode.\n",
      "2025-03-20 11:13:55.459 Thread 'MainThread': missing ScriptRunContext! This warning can be ignored when running in bare mode.\n",
      "2025-03-20 11:13:55.460 Thread 'MainThread': missing ScriptRunContext! This warning can be ignored when running in bare mode.\n",
      "2025-03-20 11:13:55.462 Thread 'MainThread': missing ScriptRunContext! This warning can be ignored when running in bare mode.\n",
      "2025-03-20 11:13:55.463 Session state does not function when running a script without `streamlit run`\n",
      "2025-03-20 11:13:55.464 Thread 'MainThread': missing ScriptRunContext! This warning can be ignored when running in bare mode.\n",
      "2025-03-20 11:13:55.465 Thread 'MainThread': missing ScriptRunContext! This warning can be ignored when running in bare mode.\n",
      "2025-03-20 11:13:55.466 Thread 'MainThread': missing ScriptRunContext! This warning can be ignored when running in bare mode.\n",
      "2025-03-20 11:13:55.466 Thread 'MainThread': missing ScriptRunContext! This warning can be ignored when running in bare mode.\n",
      "2025-03-20 11:13:55.467 Thread 'MainThread': missing ScriptRunContext! This warning can be ignored when running in bare mode.\n",
      "2025-03-20 11:13:55.467 Thread 'MainThread': missing ScriptRunContext! This warning can be ignored when running in bare mode.\n",
      "2025-03-20 11:13:55.468 Thread 'MainThread': missing ScriptRunContext! This warning can be ignored when running in bare mode.\n"
     ]
    }
   ],
   "source": [
    "# Streamlit UI\n",
    "st.title(\"Weather Prediction App\")\n",
    "selected_city = st.selectbox(\"Select a city:\", cities)\n",
    "if st.button(\"Predict Temperature\"):\n",
    "    result = predict_temperatures(selected_city)\n",
    "    st.write(result)"
   ]
  }
 ],
 "metadata": {
  "kernelspec": {
   "display_name": "Python 3 (ipykernel)",
   "language": "python",
   "name": "python3"
  },
  "language_info": {
   "codemirror_mode": {
    "name": "ipython",
    "version": 3
   },
   "file_extension": ".py",
   "mimetype": "text/x-python",
   "name": "python",
   "nbconvert_exporter": "python",
   "pygments_lexer": "ipython3",
   "version": "3.11.7"
  }
 },
 "nbformat": 4,
 "nbformat_minor": 5
}
